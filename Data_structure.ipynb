{
  "nbformat": 4,
  "nbformat_minor": 0,
  "metadata": {
    "colab": {
      "provenance": []
    },
    "kernelspec": {
      "name": "python3",
      "display_name": "Python 3"
    },
    "language_info": {
      "name": "python"
    }
  },
  "cells": [
    {
      "cell_type": "code",
      "execution_count": null,
      "metadata": {
        "id": "G8YjOe2hXeWu"
      },
      "outputs": [],
      "source": []
    },
    {
      "cell_type": "markdown",
      "source": [
        "# assignment data structe"
      ],
      "metadata": {
        "id": "hgzosEw2Xjdz"
      }
    },
    {
      "cell_type": "markdown",
      "source": [
        "1.What are data structures, and why are they important?\n",
        "  -> Data structures are organized ways of storing and organizing data so that it can be efficiently accessed, modified, and managed. They are essential for optimizing the performance of algorithms and for managing large volumes of data. Data structures allow you to handle and manipulate data in an effective and efficient manner, which is crucial for solving complex problems.\n",
        "\n",
        "Here’s why data structures are important:\n",
        "\n",
        "Efficient Data Access and Manipulation: By choosing the right data structure, you can perform operations like searching, inserting, deleting, and updating data more efficiently. For example, accessing an element in an array takes constant time, while finding an element in an unsorted list could take much longer.\n"
      ],
      "metadata": {
        "id": "JG5NnBVkXx_L"
      }
    },
    {
      "cell_type": "markdown",
      "source": [],
      "metadata": {
        "id": "oBP3e6A6YXcr"
      }
    },
    {
      "cell_type": "markdown",
      "source": [
        "2.Explain the difference between mutable and immutable data types with examples?\n",
        "   -> Mutable data types are those whose values can be modified after they are created.Immutable data types are those whose values cannot be changed once they are created.\n",
        "   Mutable data types are List, Set and Dictionaries and Immutable data type is Tuple\n",
        "   "
      ],
      "metadata": {
        "id": "b_692TCiYbVq"
      }
    },
    {
      "cell_type": "code",
      "source": [],
      "metadata": {
        "id": "_W2U2-qsZWoJ"
      },
      "execution_count": null,
      "outputs": []
    },
    {
      "cell_type": "markdown",
      "source": [
        "3.What are the main differences between lists and tuples in Python?\n",
        "   -> Main differnce is Lists are mutable while tuples are immutable that cannot be changed after creating\n",
        "   "
      ],
      "metadata": {
        "id": "mbh_cTE6ZXVs"
      }
    },
    {
      "cell_type": "code",
      "source": [],
      "metadata": {
        "id": "diMZmXS_Z19o"
      },
      "execution_count": null,
      "outputs": []
    },
    {
      "cell_type": "markdown",
      "source": [
        "4. Describe how dictionaries store data?\n",
        "     -> dictionerires store data in key value pair, for every key there is separate value\n",
        "     "
      ],
      "metadata": {
        "id": "NkJ_t8ymaDB8"
      }
    },
    {
      "cell_type": "code",
      "source": [],
      "metadata": {
        "id": "-MVfIIVaaWO0"
      },
      "execution_count": null,
      "outputs": []
    },
    {
      "cell_type": "markdown",
      "source": [
        "5.Why might you use a set instead of a list in Python?\n",
        "    -> List allows duplicate elemets but set allows only unique elements means if you enter two or three same elements it gives you only one element as result\n",
        "    "
      ],
      "metadata": {
        "id": "YSBaRSx5aW8i"
      }
    },
    {
      "cell_type": "code",
      "source": [],
      "metadata": {
        "id": "6L3t59Rta9um"
      },
      "execution_count": null,
      "outputs": []
    },
    {
      "cell_type": "markdown",
      "source": [
        "6.What is a string in Python, and how is it different from a list?\n",
        "    -> A string can be created by enclosing characters inside either single (') or double (\") quotes,Strings are immutable in Python, meaning once a string is created, it cannot be changed. You can't modify individual characters in a string directly.while A list is an ordered collection of items, which can be of any data type (including strings, integers, floats, and even other lists). Lists are mutable, meaning their elements can be changed or modified after the list is created.\n",
        "    "
      ],
      "metadata": {
        "id": "EefN42JVbEDD"
      }
    },
    {
      "cell_type": "code",
      "source": [],
      "metadata": {
        "id": "Kd1_injwfNxH"
      },
      "execution_count": null,
      "outputs": []
    },
    {
      "cell_type": "markdown",
      "source": [
        "7.How do tuples ensure data integrity in Python?\n",
        "   -> Tuples are immutable, meaning once a tuple is created, you cannot modify, add, or remove elements from it.\n",
        "   "
      ],
      "metadata": {
        "id": "mYVVFmnofOVp"
      }
    },
    {
      "cell_type": "markdown",
      "source": [
        "8.What is a hash table, and how does it relate to dictionaries in Python?\n",
        "  -> The dictionary uses a hash function to map each key to a specific index in the underlying hash table\n"
      ],
      "metadata": {
        "id": "jcuV1oq0fhlZ"
      }
    },
    {
      "cell_type": "code",
      "source": [],
      "metadata": {
        "id": "AAqU0L9GgYpA"
      },
      "execution_count": null,
      "outputs": []
    },
    {
      "cell_type": "markdown",
      "source": [
        "9.Can lists contain different data types in Python?\n",
        "   ->Yes, lists in Python can contain different data types."
      ],
      "metadata": {
        "id": "CY-qLU3ug9_Z"
      }
    },
    {
      "cell_type": "code",
      "source": [
        "\n"
      ],
      "metadata": {
        "id": "0eDLtL1KgmmY"
      },
      "execution_count": null,
      "outputs": []
    },
    {
      "cell_type": "markdown",
      "source": [
        "10.Explain why strings are immutable in Python?\n",
        "  ->In Python, strings are immutable, meaning once a string is created, it cannot be modified in place.\n",
        "  "
      ],
      "metadata": {
        "id": "vVxnbP6zhCGA"
      }
    },
    {
      "cell_type": "markdown",
      "source": [],
      "metadata": {
        "id": "ye7qsgLxhKs4"
      }
    },
    {
      "cell_type": "code",
      "source": [],
      "metadata": {
        "id": "dL2yAP3qfgBI"
      },
      "execution_count": null,
      "outputs": []
    },
    {
      "cell_type": "markdown",
      "source": [
        "11.What advantages do dictionaries offer over lists for certain tasks?\n",
        "  -> Dictionaries are specifically designed to store key-value pairs, which makes them a perfect choice when you need to associate one value with another.\n",
        "  While lists don't directly support key-based access, and while you could use indices as a form of key, it wouldn't be as intuitive or efficient as using a dictionary."
      ],
      "metadata": {
        "id": "79TN-XvMhOaa"
      }
    },
    {
      "cell_type": "markdown",
      "source": [],
      "metadata": {
        "id": "wAdFUKz-hMJw"
      }
    },
    {
      "cell_type": "markdown",
      "source": [
        "12. Describe a scenario where using a tuple would be preferable over a list?\n",
        "  -> Imagine you're working with geographic coordinates—latitude and longitude—for a set of locations, such as in a mapping application or a GPS system. These coordinates are fixed and should not change once they are set. In this case, using a tuple would be more appropriate than a list for the following reasons:immutabilty,memory efficiency and  unchangeable entity."
      ],
      "metadata": {
        "id": "vecsmIzghsvb"
      }
    },
    {
      "cell_type": "code",
      "source": [],
      "metadata": {
        "id": "xdDS8KvhiZPW"
      },
      "execution_count": null,
      "outputs": []
    },
    {
      "cell_type": "markdown",
      "source": [
        "13.How do sets handle duplicate values in Python?\n",
        "   ->In Python, sets automatically handle duplicate values by removing them. A set is an unordered collection of unique elements, meaning that it does not allow duplicate values."
      ],
      "metadata": {
        "id": "S6i_eU1RjQHQ"
      }
    },
    {
      "cell_type": "code",
      "source": [],
      "metadata": {
        "id": "NyWhhtxJimy0"
      },
      "execution_count": null,
      "outputs": []
    },
    {
      "cell_type": "markdown",
      "source": [
        "14.How does the “in” keyword work differently for lists and dictionaries?\n",
        "   -> The in keyword checks if the exact value is contained in the list.\n",
        "   While the in keyword checks if the key you are searching for is present in the dictionary."
      ],
      "metadata": {
        "id": "0PhaCz9HjT4g"
      }
    },
    {
      "cell_type": "code",
      "source": [
        "\n"
      ],
      "metadata": {
        "id": "8AgM8UGmjVfG"
      },
      "execution_count": null,
      "outputs": []
    },
    {
      "cell_type": "markdown",
      "source": [
        "15.Can you modify the elements of a tuple? Explain why or why not?\n",
        "   -> No, you cannot modify the elements of a tuple in Python because tuples are immutable data structures."
      ],
      "metadata": {
        "id": "MMDMXWY5jk-n"
      }
    },
    {
      "cell_type": "code",
      "source": [],
      "metadata": {
        "id": "Z2yRJzK7jipp"
      },
      "execution_count": null,
      "outputs": []
    },
    {
      "cell_type": "markdown",
      "source": [
        "16.What is a nested dictionary, and give an example of its use case?\n",
        "  -> A nested dictionary in Python is a dictionary where the values can themselves be dictionaries. This allows you to store more complex data structures by nesting dictionaries inside each other, making it possible to represent hierarchical or multi-level data.\n",
        "  use case: Organizing student records, where each student’s information (e.g., name, grades, and courses) is stored in a nested dictionary."
      ],
      "metadata": {
        "id": "I3wsexXVjmn-"
      }
    },
    {
      "cell_type": "code",
      "source": [],
      "metadata": {
        "id": "Yt-SUsXlkPMs"
      },
      "execution_count": null,
      "outputs": []
    },
    {
      "cell_type": "markdown",
      "source": [
        "17. Describe the time complexity of accessing elements in a dictionary?\n",
        "   -> The time complexity of accessing elements in a Python dictionary is O(1) on average, meaning it takes constant time to retrieve a value based on its key. This is one of the major advantages of dictionaries in Python, making them highly efficient for key-based lookups."
      ],
      "metadata": {
        "id": "56OcEQBBkXEv"
      }
    },
    {
      "cell_type": "code",
      "source": [],
      "metadata": {
        "id": "9VSEN9hckhuE"
      },
      "execution_count": null,
      "outputs": []
    },
    {
      "cell_type": "markdown",
      "source": [],
      "metadata": {
        "id": "9Q2Ubb6bkidH"
      }
    },
    {
      "cell_type": "markdown",
      "source": [
        "18. In what situations are lists preferred over dictionaries?\n",
        "   -> Lists allow you to access elements by their index, which is useful when you need to reference elements in a specific position.\n",
        "Dictionaries, on the other hand, require you to access elements by key, and there is no concept of indexing in dictionaries."
      ],
      "metadata": {
        "id": "22q6fkhgklKo"
      }
    },
    {
      "cell_type": "code",
      "source": [],
      "metadata": {
        "id": "32mVJ7tKk8wN"
      },
      "execution_count": null,
      "outputs": []
    },
    {
      "cell_type": "markdown",
      "source": [
        "19.Why are dictionaries considered unordered, and how does that affect data retrieval?\n",
        "   -> Since dictionaries did not guarantee the order of key-value pairs, you could not rely on the order in which you inserted elements when iterating over a dictionary or accessing the data."
      ],
      "metadata": {
        "id": "MWHK8J0zlCIP"
      }
    },
    {
      "cell_type": "code",
      "source": [],
      "metadata": {
        "id": "XkJ2eenAlXKJ"
      },
      "execution_count": null,
      "outputs": []
    },
    {
      "cell_type": "markdown",
      "source": [
        "20. Explain the difference between a list and a dictionary in terms of data retrieval.\n",
        "   ->A list in Python is an ordered collection of elements that can be accessed using indexing. Elements in a list are stored sequentially.\n",
        "Data retrieval in a list is based on the position of the element, which is an index (an integer value).\n",
        "While A dictionary in Python is an unordered collection of key-value pairs. The data is accessed using keys, not by position or index.\n",
        "Each element in a dictionary consists of a key and a value. You retrieve data by specifying the key."
      ],
      "metadata": {
        "id": "Y5mmTkWmlXxa"
      }
    },
    {
      "cell_type": "code",
      "source": [],
      "metadata": {
        "id": "hTQULJkTlr60"
      },
      "execution_count": null,
      "outputs": []
    },
    {
      "cell_type": "markdown",
      "source": [
        "## practical questions\n"
      ],
      "metadata": {
        "id": "z8Dbi3yxlswg"
      }
    },
    {
      "cell_type": "code",
      "source": [],
      "metadata": {
        "id": "nQDCLb-4lzOu"
      },
      "execution_count": null,
      "outputs": []
    },
    {
      "cell_type": "markdown",
      "source": [
        "1.Write a code to create a string with your name and print it?"
      ],
      "metadata": {
        "id": "w9Kkdynfl3Mx"
      }
    },
    {
      "cell_type": "code",
      "source": [
        "name=\"shashi\"\n",
        "print(name)"
      ],
      "metadata": {
        "colab": {
          "base_uri": "https://localhost:8080/"
        },
        "id": "2SPb0bkpl52L",
        "outputId": "5a8ce1ea-4537-4926-a753-2516846e014b"
      },
      "execution_count": 1,
      "outputs": [
        {
          "output_type": "stream",
          "name": "stdout",
          "text": [
            "shashi\n"
          ]
        }
      ]
    },
    {
      "cell_type": "code",
      "source": [],
      "metadata": {
        "id": "xhUPChNVmECZ"
      },
      "execution_count": null,
      "outputs": []
    },
    {
      "cell_type": "markdown",
      "source": [
        "2.Write a code to find the length of the string \"Hello World\"?"
      ],
      "metadata": {
        "id": "gDx1PmFImFHI"
      }
    },
    {
      "cell_type": "code",
      "source": [
        "len(\"Hello World\")"
      ],
      "metadata": {
        "colab": {
          "base_uri": "https://localhost:8080/"
        },
        "id": "F-PMYADXmJfJ",
        "outputId": "04618e49-5162-4574-fa9e-8de9ad5f748a"
      },
      "execution_count": 2,
      "outputs": [
        {
          "output_type": "execute_result",
          "data": {
            "text/plain": [
              "11"
            ]
          },
          "metadata": {},
          "execution_count": 2
        }
      ]
    },
    {
      "cell_type": "code",
      "source": [],
      "metadata": {
        "id": "pZGxnfQjmTtZ"
      },
      "execution_count": null,
      "outputs": []
    },
    {
      "cell_type": "markdown",
      "source": [
        "3.Write a code to slice the first 3 characters from the string \"Python Programming\"?\n"
      ],
      "metadata": {
        "id": "Y9tKQ4KBmUhQ"
      }
    },
    {
      "cell_type": "code",
      "source": [
        "string=\"python programming\"\n",
        "string[0:3]"
      ],
      "metadata": {
        "colab": {
          "base_uri": "https://localhost:8080/",
          "height": 35
        },
        "id": "yXY5h5Nkmbc4",
        "outputId": "c1f1a21d-8cea-4733-83cd-b4a8d53907c2"
      },
      "execution_count": 3,
      "outputs": [
        {
          "output_type": "execute_result",
          "data": {
            "text/plain": [
              "'pyt'"
            ],
            "application/vnd.google.colaboratory.intrinsic+json": {
              "type": "string"
            }
          },
          "metadata": {},
          "execution_count": 3
        }
      ]
    },
    {
      "cell_type": "markdown",
      "source": [
        "4.Write a code to convert the string \"hello\" to uppercase?"
      ],
      "metadata": {
        "id": "r5oUpjhUmixo"
      }
    },
    {
      "cell_type": "code",
      "source": [
        "string=\"hello\"\n",
        "string.upper()"
      ],
      "metadata": {
        "colab": {
          "base_uri": "https://localhost:8080/",
          "height": 35
        },
        "id": "mcT9VsTtmoGq",
        "outputId": "41850b40-66ed-4f47-ce82-2d5114999552"
      },
      "execution_count": 4,
      "outputs": [
        {
          "output_type": "execute_result",
          "data": {
            "text/plain": [
              "'HELLO'"
            ],
            "application/vnd.google.colaboratory.intrinsic+json": {
              "type": "string"
            }
          },
          "metadata": {},
          "execution_count": 4
        }
      ]
    },
    {
      "cell_type": "markdown",
      "source": [
        "5.Write a code to replace the word \"apple\" with \"orange\" in the string \"I like apple\"?"
      ],
      "metadata": {
        "id": "gF7dV-CDms0Y"
      }
    },
    {
      "cell_type": "code",
      "source": [
        "string=\"I like apple\"\n",
        "string.replace(\"apple\",\"orange\")"
      ],
      "metadata": {
        "colab": {
          "base_uri": "https://localhost:8080/",
          "height": 35
        },
        "id": "KnXrnytkmr-g",
        "outputId": "58d69548-9685-4775-a933-437dada97104"
      },
      "execution_count": 5,
      "outputs": [
        {
          "output_type": "execute_result",
          "data": {
            "text/plain": [
              "'I like orange'"
            ],
            "application/vnd.google.colaboratory.intrinsic+json": {
              "type": "string"
            }
          },
          "metadata": {},
          "execution_count": 5
        }
      ]
    },
    {
      "cell_type": "code",
      "source": [],
      "metadata": {
        "id": "aN0DhxH0mh4T"
      },
      "execution_count": null,
      "outputs": []
    },
    {
      "cell_type": "markdown",
      "source": [
        "6.Write a code to create a list with numbers 1 to 5 and print it?"
      ],
      "metadata": {
        "id": "M9ASsY_5m2eQ"
      }
    },
    {
      "cell_type": "code",
      "source": [
        "my_list = [1, 2, 3, 4, 5]\n",
        "print(my_list)"
      ],
      "metadata": {
        "colab": {
          "base_uri": "https://localhost:8080/"
        },
        "id": "oE4tKovdm8gm",
        "outputId": "40a2165f-f985-4ff8-e403-e57989fd314f"
      },
      "execution_count": 7,
      "outputs": [
        {
          "output_type": "stream",
          "name": "stdout",
          "text": [
            "[1, 2, 3, 4, 5]\n"
          ]
        }
      ]
    },
    {
      "cell_type": "code",
      "source": [],
      "metadata": {
        "id": "eWn1BSaQnJIc"
      },
      "execution_count": null,
      "outputs": []
    },
    {
      "cell_type": "markdown",
      "source": [],
      "metadata": {
        "id": "I2rGSiLPlA0f"
      }
    },
    {
      "cell_type": "markdown",
      "source": [
        "7.Write a code to append the number 10 to the list [1, 2, 3, 4]"
      ],
      "metadata": {
        "id": "zczLrd7YnKcF"
      }
    },
    {
      "cell_type": "code",
      "source": [
        "list=[1,2,3,4]\n",
        "list.append(10)\n",
        "print(list)"
      ],
      "metadata": {
        "colab": {
          "base_uri": "https://localhost:8080/"
        },
        "id": "BI75-ySgnO9g",
        "outputId": "355caedc-e50c-4ca6-a0b4-80010d8b4ef0"
      },
      "execution_count": 10,
      "outputs": [
        {
          "output_type": "stream",
          "name": "stdout",
          "text": [
            "[1, 2, 3, 4, 10]\n"
          ]
        }
      ]
    },
    {
      "cell_type": "code",
      "source": [],
      "metadata": {
        "id": "m2qS33pAnbRc"
      },
      "execution_count": null,
      "outputs": []
    },
    {
      "cell_type": "markdown",
      "source": [
        "8.Write a code to remove the number 3 from the list [1, 2, 3, 4, 5]"
      ],
      "metadata": {
        "id": "TtUTgDptncet"
      }
    },
    {
      "cell_type": "code",
      "source": [
        "my_list = [1, 2, 3, 4, 5]\n",
        "my_list.remove(3)\n",
        "print(my_list)"
      ],
      "metadata": {
        "colab": {
          "base_uri": "https://localhost:8080/"
        },
        "id": "qfq3AThKngyd",
        "outputId": "9b010d58-aeda-4681-cea9-51abeda2366d"
      },
      "execution_count": 11,
      "outputs": [
        {
          "output_type": "stream",
          "name": "stdout",
          "text": [
            "[1, 2, 4, 5]\n"
          ]
        }
      ]
    },
    {
      "cell_type": "code",
      "source": [],
      "metadata": {
        "id": "un6WdEzmn5KX"
      },
      "execution_count": null,
      "outputs": []
    },
    {
      "cell_type": "markdown",
      "source": [
        "9.Write a code to access the second element in the list ['a', 'b', 'c', 'd']"
      ],
      "metadata": {
        "id": "POsZ0j5rn6JT"
      }
    },
    {
      "cell_type": "code",
      "source": [
        "list=[\"a\",\"b\",\"c\",\"d\"]\n",
        "list[1]"
      ],
      "metadata": {
        "colab": {
          "base_uri": "https://localhost:8080/",
          "height": 35
        },
        "id": "Od6XOpUvn_GJ",
        "outputId": "9cc4b9e0-23a1-4b54-867c-2df95d71aeb8"
      },
      "execution_count": 12,
      "outputs": [
        {
          "output_type": "execute_result",
          "data": {
            "text/plain": [
              "'b'"
            ],
            "application/vnd.google.colaboratory.intrinsic+json": {
              "type": "string"
            }
          },
          "metadata": {},
          "execution_count": 12
        }
      ]
    },
    {
      "cell_type": "code",
      "source": [],
      "metadata": {
        "id": "qjndhwcqoDAB"
      },
      "execution_count": null,
      "outputs": []
    },
    {
      "cell_type": "markdown",
      "source": [
        "10.Write a code to reverse the list [10, 20, 30, 40, 50]"
      ],
      "metadata": {
        "id": "cd_g4MsgoEQm"
      }
    },
    {
      "cell_type": "code",
      "source": [
        "list=[10,20,30,40,50]\n",
        "list.reverse()\n",
        "print(list)"
      ],
      "metadata": {
        "colab": {
          "base_uri": "https://localhost:8080/"
        },
        "id": "Bcnr1xc6oIA_",
        "outputId": "43fcadc3-7661-4b85-a811-a219984edb4f"
      },
      "execution_count": 13,
      "outputs": [
        {
          "output_type": "stream",
          "name": "stdout",
          "text": [
            "[50, 40, 30, 20, 10]\n"
          ]
        }
      ]
    },
    {
      "cell_type": "code",
      "source": [],
      "metadata": {
        "id": "A7nppNrPoMCd"
      },
      "execution_count": null,
      "outputs": []
    },
    {
      "cell_type": "markdown",
      "source": [
        "11.Write a code to create a tuple with the elements 100, 200, 300 and print it."
      ],
      "metadata": {
        "id": "UAbkbd2eoM2R"
      }
    },
    {
      "cell_type": "code",
      "source": [
        "t=(100,200,300)\n",
        "print(t)\n",
        "type(t)"
      ],
      "metadata": {
        "colab": {
          "base_uri": "https://localhost:8080/"
        },
        "id": "TUtRsa7moSUr",
        "outputId": "9867c1a6-e14e-4518-9109-00be55da38b9"
      },
      "execution_count": 14,
      "outputs": [
        {
          "output_type": "stream",
          "name": "stdout",
          "text": [
            "(100, 200, 300)\n"
          ]
        },
        {
          "output_type": "execute_result",
          "data": {
            "text/plain": [
              "tuple"
            ]
          },
          "metadata": {},
          "execution_count": 14
        }
      ]
    },
    {
      "cell_type": "code",
      "source": [],
      "metadata": {
        "id": "UhjwD3NHoWOq"
      },
      "execution_count": null,
      "outputs": []
    },
    {
      "cell_type": "markdown",
      "source": [
        "12.Write a code to access the second-to-last element of the tuple ('red', 'green', 'blue', 'yellow')."
      ],
      "metadata": {
        "id": "DxZINNm-oW9h"
      }
    },
    {
      "cell_type": "code",
      "source": [
        "t=(\"red\",\"green\",\"blue\",\"yellow\")\n",
        "t[-2]"
      ],
      "metadata": {
        "colab": {
          "base_uri": "https://localhost:8080/",
          "height": 35
        },
        "id": "ra8J_gGvobAP",
        "outputId": "96e2fc05-bb6d-4704-af57-501d58617c71"
      },
      "execution_count": 16,
      "outputs": [
        {
          "output_type": "execute_result",
          "data": {
            "text/plain": [
              "'blue'"
            ],
            "application/vnd.google.colaboratory.intrinsic+json": {
              "type": "string"
            }
          },
          "metadata": {},
          "execution_count": 16
        }
      ]
    },
    {
      "cell_type": "code",
      "source": [],
      "metadata": {
        "id": "FYDa8Z3go17q"
      },
      "execution_count": null,
      "outputs": []
    },
    {
      "cell_type": "markdown",
      "source": [
        "13.Write a code to find the minimum number in the tuple (10, 20, 5, 15)."
      ],
      "metadata": {
        "id": "Up-vKqECo2zw"
      }
    },
    {
      "cell_type": "code",
      "source": [
        "t=(10,20.5,15)\n",
        "min(t)"
      ],
      "metadata": {
        "colab": {
          "base_uri": "https://localhost:8080/"
        },
        "id": "Tl9i-kDmo6r5",
        "outputId": "769d3808-0842-40a5-c58a-f3b4ff20692d"
      },
      "execution_count": 17,
      "outputs": [
        {
          "output_type": "execute_result",
          "data": {
            "text/plain": [
              "10"
            ]
          },
          "metadata": {},
          "execution_count": 17
        }
      ]
    },
    {
      "cell_type": "code",
      "source": [],
      "metadata": {
        "id": "x-JaXvVJo-WC"
      },
      "execution_count": null,
      "outputs": []
    },
    {
      "cell_type": "markdown",
      "source": [
        "14. Write a code to find the index of the element \"cat\" in the tuple ('dog', 'cat', 'rabbit')."
      ],
      "metadata": {
        "id": "ilU_hauPo_YX"
      }
    },
    {
      "cell_type": "code",
      "source": [
        "t=(\"dog\",\"cat\",\"rabbit\")\n",
        "t.index(\"cat\")"
      ],
      "metadata": {
        "colab": {
          "base_uri": "https://localhost:8080/"
        },
        "id": "Ek-7oSArpHhN",
        "outputId": "c7c416f4-868f-44d1-ce73-2000064f4cd0"
      },
      "execution_count": 18,
      "outputs": [
        {
          "output_type": "execute_result",
          "data": {
            "text/plain": [
              "1"
            ]
          },
          "metadata": {},
          "execution_count": 18
        }
      ]
    },
    {
      "cell_type": "code",
      "source": [],
      "metadata": {
        "id": "yJabozMbpLtS"
      },
      "execution_count": null,
      "outputs": []
    },
    {
      "cell_type": "markdown",
      "source": [
        "15.Write a code to create a tuple containing three different fruits and check if \"kiwi\" is in it."
      ],
      "metadata": {
        "id": "PY6qBGrhpM28"
      }
    },
    {
      "cell_type": "code",
      "source": [
        "t=(\"banana\",\"apple\",\"kiwi\")\n",
        "\"kiwi\" in t"
      ],
      "metadata": {
        "colab": {
          "base_uri": "https://localhost:8080/"
        },
        "id": "ECaTwjfxpRdi",
        "outputId": "1cade241-405b-4dcb-e181-8e2ee988605b"
      },
      "execution_count": 19,
      "outputs": [
        {
          "output_type": "execute_result",
          "data": {
            "text/plain": [
              "True"
            ]
          },
          "metadata": {},
          "execution_count": 19
        }
      ]
    },
    {
      "cell_type": "code",
      "source": [],
      "metadata": {
        "id": "SSXgsaLipU1J"
      },
      "execution_count": null,
      "outputs": []
    },
    {
      "cell_type": "markdown",
      "source": [
        "16.Write a code to create a set with the elements 'a', 'b', 'c' and print it."
      ],
      "metadata": {
        "id": "4N8YmPQ9pV8t"
      }
    },
    {
      "cell_type": "code",
      "source": [
        "s={\"a\",\"b\",\"c\"}\n",
        "print(s)"
      ],
      "metadata": {
        "colab": {
          "base_uri": "https://localhost:8080/"
        },
        "id": "7GveiozFpZfK",
        "outputId": "87f445f0-905f-4137-b2f0-0a6920f12449"
      },
      "execution_count": 20,
      "outputs": [
        {
          "output_type": "stream",
          "name": "stdout",
          "text": [
            "{'c', 'a', 'b'}\n"
          ]
        }
      ]
    },
    {
      "cell_type": "code",
      "source": [],
      "metadata": {
        "id": "3zM_HHQtpdB_"
      },
      "execution_count": null,
      "outputs": []
    },
    {
      "cell_type": "markdown",
      "source": [
        "17.Write a code to clear all elements from the set {1, 2, 3, 4, 5}."
      ],
      "metadata": {
        "id": "0OlkQelepdq3"
      }
    },
    {
      "cell_type": "code",
      "source": [
        "s={1,2,3,4}\n",
        "\n",
        "\n",
        "s.clear()\n",
        "print(s)"
      ],
      "metadata": {
        "colab": {
          "base_uri": "https://localhost:8080/"
        },
        "id": "yVi25TKBphxL",
        "outputId": "e54d3d61-817b-41b0-842c-d4dfca8f71f8"
      },
      "execution_count": 21,
      "outputs": [
        {
          "output_type": "stream",
          "name": "stdout",
          "text": [
            "set()\n"
          ]
        }
      ]
    },
    {
      "cell_type": "code",
      "source": [],
      "metadata": {
        "id": "qwIomttXpvVc"
      },
      "execution_count": null,
      "outputs": []
    },
    {
      "cell_type": "markdown",
      "source": [
        "18.Write a code to remove the element 4 from the set {1, 2, 3, 4}."
      ],
      "metadata": {
        "id": "Md9GaqA1pwn6"
      }
    },
    {
      "cell_type": "code",
      "source": [
        "s={1,2,3,4}\n",
        "s.remove(4)\n",
        "print(s)"
      ],
      "metadata": {
        "colab": {
          "base_uri": "https://localhost:8080/"
        },
        "id": "9Nhax2Njp1HA",
        "outputId": "549172f3-5502-4bf6-f7e0-abea911ca272"
      },
      "execution_count": 22,
      "outputs": [
        {
          "output_type": "stream",
          "name": "stdout",
          "text": [
            "{1, 2, 3}\n"
          ]
        }
      ]
    },
    {
      "cell_type": "code",
      "source": [],
      "metadata": {
        "id": "tSmDZOnOp7TN"
      },
      "execution_count": null,
      "outputs": []
    },
    {
      "cell_type": "markdown",
      "source": [
        "19.Write a code to find the union of two sets {1, 2, 3} and {3, 4, 5}."
      ],
      "metadata": {
        "id": "GInzu7sip8VG"
      }
    },
    {
      "cell_type": "code",
      "source": [
        "s1={1,2,3}\n",
        "s2={3,4,5}\n",
        "s1|s2"
      ],
      "metadata": {
        "colab": {
          "base_uri": "https://localhost:8080/"
        },
        "id": "OX_OjClwqAko",
        "outputId": "68a2aab4-4ee9-4c9d-b079-c30e84b9624d"
      },
      "execution_count": 23,
      "outputs": [
        {
          "output_type": "execute_result",
          "data": {
            "text/plain": [
              "{1, 2, 3, 4, 5}"
            ]
          },
          "metadata": {},
          "execution_count": 23
        }
      ]
    },
    {
      "cell_type": "code",
      "source": [],
      "metadata": {
        "id": "9WrX1Uz9qFna"
      },
      "execution_count": null,
      "outputs": []
    },
    {
      "cell_type": "markdown",
      "source": [
        "20.Write a code to find the intersection of two sets {1, 2, 3} and {2, 3, 4}."
      ],
      "metadata": {
        "id": "q9f191YoqHGI"
      }
    },
    {
      "cell_type": "code",
      "source": [
        "s1={1,2,3}\n",
        "s2={2,3,4}\n",
        "s1&s2"
      ],
      "metadata": {
        "colab": {
          "base_uri": "https://localhost:8080/"
        },
        "id": "24QV7crVqKjZ",
        "outputId": "9e3734a4-79b7-4208-e29e-54b4de2bc8a4"
      },
      "execution_count": 24,
      "outputs": [
        {
          "output_type": "execute_result",
          "data": {
            "text/plain": [
              "{2, 3}"
            ]
          },
          "metadata": {},
          "execution_count": 24
        }
      ]
    },
    {
      "cell_type": "code",
      "source": [],
      "metadata": {
        "id": "N_wHLA2fqb7R"
      },
      "execution_count": null,
      "outputs": []
    },
    {
      "cell_type": "markdown",
      "source": [
        "21.Write a code to create a dictionary with the keys \"name\", \"age\", and \"city\", and print it."
      ],
      "metadata": {
        "id": "TrWm2axiqcjH"
      }
    },
    {
      "cell_type": "code",
      "source": [
        "d={\"name\":\"shashi\",\"age\":33,\"city\":\"nagpur\"}\n",
        "print(d)\n",
        "type(d)"
      ],
      "metadata": {
        "colab": {
          "base_uri": "https://localhost:8080/"
        },
        "id": "EpYw_VA-qgFL",
        "outputId": "e01ba9f9-7af5-4bb7-e302-15eb9558094c"
      },
      "execution_count": 25,
      "outputs": [
        {
          "output_type": "stream",
          "name": "stdout",
          "text": [
            "{'name': 'shashi', 'age': 33, 'city': 'nagpur'}\n"
          ]
        },
        {
          "output_type": "execute_result",
          "data": {
            "text/plain": [
              "dict"
            ]
          },
          "metadata": {},
          "execution_count": 25
        }
      ]
    },
    {
      "cell_type": "code",
      "source": [],
      "metadata": {
        "id": "RxrLQ0aUqk2O"
      },
      "execution_count": null,
      "outputs": []
    },
    {
      "cell_type": "markdown",
      "source": [
        "22.Write a code to add a new key-value pair \"country\": \"USA\" to the dictionary {'name': 'John', 'age': 25}."
      ],
      "metadata": {
        "id": "-8HByqvtqlYn"
      }
    },
    {
      "cell_type": "code",
      "source": [
        "dict={'name':'john','age':25}\n",
        "dict['country']='USA'\n",
        "print(dict)"
      ],
      "metadata": {
        "colab": {
          "base_uri": "https://localhost:8080/"
        },
        "id": "7iTkkNsZqpbt",
        "outputId": "5db600ff-9e68-4f54-919d-47e8c9e0cd9d"
      },
      "execution_count": 26,
      "outputs": [
        {
          "output_type": "stream",
          "name": "stdout",
          "text": [
            "{'name': 'john', 'age': 25, 'country': 'USA'}\n"
          ]
        }
      ]
    },
    {
      "cell_type": "code",
      "source": [],
      "metadata": {
        "id": "PzDBKJa4rXO0"
      },
      "execution_count": null,
      "outputs": []
    },
    {
      "cell_type": "markdown",
      "source": [
        "23.Write a code to access the value associated with the key \"name\" in the dictionary {'name': 'Alice', 'age': 30}."
      ],
      "metadata": {
        "id": "54-c9MZOrX1g"
      }
    },
    {
      "cell_type": "code",
      "source": [
        "dict1={'name':'Alice','age':30}\n",
        "dict1['name']"
      ],
      "metadata": {
        "colab": {
          "base_uri": "https://localhost:8080/",
          "height": 35
        },
        "id": "z2qgGv1yrd1Y",
        "outputId": "f62446ce-4ebf-44b8-d511-f50289569c5d"
      },
      "execution_count": 29,
      "outputs": [
        {
          "output_type": "execute_result",
          "data": {
            "text/plain": [
              "'Alice'"
            ],
            "application/vnd.google.colaboratory.intrinsic+json": {
              "type": "string"
            }
          },
          "metadata": {},
          "execution_count": 29
        }
      ]
    },
    {
      "cell_type": "code",
      "source": [],
      "metadata": {
        "id": "HcBrbMBYr1qM"
      },
      "execution_count": null,
      "outputs": []
    },
    {
      "cell_type": "markdown",
      "source": [
        "24.Write a code to remove the key \"age\" from the dictionary {'name': 'Bob', 'age': 22, 'city': 'New York'}."
      ],
      "metadata": {
        "id": "ui6XVdjPr2aI"
      }
    },
    {
      "cell_type": "code",
      "source": [
        "dict={'name':'bob','age':22,'city':'new york'}\n",
        "dict.pop('age')\n",
        "print(dict)"
      ],
      "metadata": {
        "colab": {
          "base_uri": "https://localhost:8080/"
        },
        "id": "fUvjOkhjr68W",
        "outputId": "a17216ff-2436-467e-a209-53c349eb9b6d"
      },
      "execution_count": 32,
      "outputs": [
        {
          "output_type": "stream",
          "name": "stdout",
          "text": [
            "{'name': 'bob', 'city': 'new york'}\n"
          ]
        }
      ]
    },
    {
      "cell_type": "code",
      "source": [],
      "metadata": {
        "id": "uubtHMxrswrD"
      },
      "execution_count": null,
      "outputs": []
    },
    {
      "cell_type": "markdown",
      "source": [
        "25. Write a code to check if the key \"city\" exists in the dictionary {'name': 'Alice', 'city': 'Paris'}."
      ],
      "metadata": {
        "id": "QlrQLOQgsyfU"
      }
    },
    {
      "cell_type": "code",
      "source": [
        "my_dict = {'name': 'Alice', 'city': 'Paris'}\n",
        "if 'city' in my_dict:\n",
        "    print(\"Key 'city' exists in the dictionary.\")\n",
        "else:\n",
        "    print(\"Key 'city' does not exist in the dictionary.\")"
      ],
      "metadata": {
        "colab": {
          "base_uri": "https://localhost:8080/"
        },
        "id": "LckfFET7s3K0",
        "outputId": "b2374216-c435-4479-88ee-d38c86fd53a9"
      },
      "execution_count": 33,
      "outputs": [
        {
          "output_type": "stream",
          "name": "stdout",
          "text": [
            "Key 'city' exists in the dictionary.\n"
          ]
        }
      ]
    },
    {
      "cell_type": "code",
      "source": [],
      "metadata": {
        "id": "Z9nUrOabtGMT"
      },
      "execution_count": null,
      "outputs": []
    },
    {
      "cell_type": "markdown",
      "source": [
        "26. Write a code to create a list, a tuple, and a dictionary, and print them all."
      ],
      "metadata": {
        "id": "E-PMuWxwtHbW"
      }
    },
    {
      "cell_type": "code",
      "source": [
        "my_list=[1,2,3,4]\n",
        "my_tuple=(5,6,7,8,9)\n",
        "my_dict={\"name\":\"shashi\",\"age\":33,\"city\":\"nagpur\"}\n",
        "print(\"list:\",my_list)\n",
        "print(\"tuple:\",my_tuple)\n",
        "print(\"dictionary:\",my_dict)"
      ],
      "metadata": {
        "colab": {
          "base_uri": "https://localhost:8080/"
        },
        "id": "VLwFU0x_tLm2",
        "outputId": "3298f7c9-3cb7-4995-ddf0-3adf4d407f85"
      },
      "execution_count": 34,
      "outputs": [
        {
          "output_type": "stream",
          "name": "stdout",
          "text": [
            "list: [1, 2, 3, 4]\n",
            "tuple: (5, 6, 7, 8, 9)\n",
            "dictionary: {'name': 'shashi', 'age': 33, 'city': 'nagpur'}\n"
          ]
        }
      ]
    },
    {
      "cell_type": "code",
      "source": [],
      "metadata": {
        "id": "wZKpWAWatPrb"
      },
      "execution_count": null,
      "outputs": []
    },
    {
      "cell_type": "markdown",
      "source": [
        "27.Write a code to create a list of 5 random numbers between 1 and 100, sort it in ascending order, and print the\n",
        "result.(replaced)"
      ],
      "metadata": {
        "id": "1pXnkIJztQnn"
      }
    },
    {
      "cell_type": "code",
      "source": [
        "import random\n",
        "random_numbers = [random.randint(1, 100) for _ in range(5)]\n",
        "random_numbers.sort()\n",
        "print(random_numbers)\n",
        "\n"
      ],
      "metadata": {
        "colab": {
          "base_uri": "https://localhost:8080/"
        },
        "id": "k6O22JQhtc8C",
        "outputId": "253f5cd3-8d7a-4347-c074-1160c9df4e69"
      },
      "execution_count": 37,
      "outputs": [
        {
          "output_type": "stream",
          "name": "stdout",
          "text": [
            "[15, 61, 78, 89, 100]\n"
          ]
        }
      ]
    },
    {
      "cell_type": "markdown",
      "source": [
        "28.Write a code to create a list with strings and print the element at the third index."
      ],
      "metadata": {
        "id": "QNmFi1BvuKCG"
      }
    },
    {
      "cell_type": "code",
      "source": [
        "list=[\"banana\",\"apple\",\"kiwi\",\"orange\",\"carrot\"]\n",
        "print(\"third element is:\",list[3])"
      ],
      "metadata": {
        "colab": {
          "base_uri": "https://localhost:8080/"
        },
        "id": "d7lYrR7JuNeS",
        "outputId": "ee282c66-2d46-47f8-9c48-4fa27831ff05"
      },
      "execution_count": 38,
      "outputs": [
        {
          "output_type": "stream",
          "name": "stdout",
          "text": [
            "third element is: orange\n"
          ]
        }
      ]
    },
    {
      "cell_type": "markdown",
      "source": [
        "29.Write a code to combine two dictionaries into one and print the result."
      ],
      "metadata": {
        "id": "BV5MVIiquUin"
      }
    },
    {
      "cell_type": "code",
      "source": [
        "my_dict1={\"name\":\"shashi\",\"age\":33,\"city\":\"nagpur\"}\n",
        "my_dict2={\"fruit\":\"apple\",\"sport\":\"football\",\"hobby\":\"music\"}\n",
        "combine_dict=(my_dict1,my_dict2)\n",
        "print(\"combine dictionery:\",combine_dict)"
      ],
      "metadata": {
        "colab": {
          "base_uri": "https://localhost:8080/"
        },
        "id": "ykO1C2SOuYMp",
        "outputId": "dd08fcc5-5e70-4b32-cfe1-09f42475a998"
      },
      "execution_count": 39,
      "outputs": [
        {
          "output_type": "stream",
          "name": "stdout",
          "text": [
            "combine dictionery: ({'name': 'shashi', 'age': 33, 'city': 'nagpur'}, {'fruit': 'apple', 'sport': 'football', 'hobby': 'music'})\n"
          ]
        }
      ]
    },
    {
      "cell_type": "code",
      "source": [],
      "metadata": {
        "id": "AsHIbSCGueN7"
      },
      "execution_count": null,
      "outputs": []
    },
    {
      "cell_type": "markdown",
      "source": [
        "30.Write a code to convert a list of strings into a set."
      ],
      "metadata": {
        "id": "lpKmNnyOue4G"
      }
    },
    {
      "cell_type": "code",
      "source": [
        "my_list=[\"apple\",\"banana\",\"kiwi\"]\n",
        "my_set=set(my_list)\n",
        "print(\"set:\",my_set)"
      ],
      "metadata": {
        "colab": {
          "base_uri": "https://localhost:8080/"
        },
        "id": "HTALfazIuimm",
        "outputId": "c278e1ba-f3cf-444a-81b4-551a112835c2"
      },
      "execution_count": 40,
      "outputs": [
        {
          "output_type": "stream",
          "name": "stdout",
          "text": [
            "set: {'apple', 'banana', 'kiwi'}\n"
          ]
        }
      ]
    },
    {
      "cell_type": "code",
      "source": [],
      "metadata": {
        "id": "QxwFLCCKuHOM"
      },
      "execution_count": null,
      "outputs": []
    }
  ]
}